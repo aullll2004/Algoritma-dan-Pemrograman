{
 "cells": [
  {
   "cell_type": "code",
   "execution_count": 5,
   "metadata": {},
   "outputs": [
    {
     "name": "stdout",
     "output_type": "stream",
     "text": [
      "Obesity Class II\n"
     ]
    }
   ],
   "source": [
    "weight = float(input(\"masukkan berat badan dalam satuan kilogram\"))\n",
    "height = float(input(\"masukkan tinggi badan dalam satuan meter**2\"))\n",
    "\n",
    "if(weight/(height**2) <18.5):\n",
    "    print(\"Underweight\")\n",
    "if(weight/(height**2) >= 18.5 and weight/(height**2) <= 24.9):\n",
    "    print(\"Normal Weight\")\n",
    "if(weight/(height**2) >= 25 and weight/(height**2) <= 29.9):\n",
    "    print(\"Overweight\")\n",
    "if(weight/(height**2) >= 30 and weight/(height**2) <= 34.9):\n",
    "    print(\"Obesity Class I\")\n",
    "if(weight/(height**2) >= 35 and weight/(height**2) <= 39.9):\n",
    "    print(\"Obesity Class II\")\n",
    "if(weight/(height**2) >= 40):\n",
    "    print(\"Obesity Class III\")\n",
    "\n",
    "#AULIA PUTRI RACHMAWATI / 222410102026"
   ]
  }
 ],
 "metadata": {
  "kernelspec": {
   "display_name": "Python 3.10.6 64-bit",
   "language": "python",
   "name": "python3"
  },
  "language_info": {
   "codemirror_mode": {
    "name": "ipython",
    "version": 3
   },
   "file_extension": ".py",
   "mimetype": "text/x-python",
   "name": "python",
   "nbconvert_exporter": "python",
   "pygments_lexer": "ipython3",
   "version": "3.10.6"
  },
  "orig_nbformat": 4,
  "vscode": {
   "interpreter": {
    "hash": "bf8de30da8b20d0ae67726f53b0f72a38d69d5656f61b1c29ccdb69cfa423e52"
   }
  }
 },
 "nbformat": 4,
 "nbformat_minor": 2
}
